{
 "cells": [
  {
   "cell_type": "markdown",
   "metadata": {},
   "source": [
    "## Import packages."
   ]
  },
  {
   "cell_type": "code",
   "execution_count": 1,
   "metadata": {},
   "outputs": [],
   "source": [
    "%matplotlib inline\n",
    "\n",
    "# import packages\n",
    "import numpy as np\n",
    "import time\n",
    "import pandas as pd\n",
    "\n",
    "import matplotlib\n",
    "import matplotlib.pyplot as plt\n",
    "import matplotlib.colors as colors\n",
    "import matplotlib.cm as cm\n",
    "from matplotlib import gridspec\n",
    "\n",
    "import torch\n",
    "from torch import nn\n",
    "from torch import distributions\n",
    "from torch.nn.parameter import Parameter\n"
   ]
  },
  {
   "cell_type": "code",
   "execution_count": 2,
   "metadata": {},
   "outputs": [],
   "source": [
    "# define plot properties\n",
    "from cycler import cycler\n",
    "import matplotlib.cm as cm\n",
    "\n",
    "from matplotlib import rcParams\n",
    "from matplotlib import rc\n",
    "from mpl_toolkits.axes_grid1 import make_axes_locatable\n",
    "\n",
    "def rgb(r,g,b):\n",
    "    return (float(r)/256.,float(g)/256.,float(b)/256.)\n",
    "\n",
    "cb2 = [rgb(31,120,180), rgb(255,127,0), rgb(51,160,44), rgb(227,26,28), \\\n",
    "       rgb(166,206,227), rgb(253,191,111), rgb(178,223,138), rgb(251,154,153)]\n",
    "\n",
    "rcParams['figure.figsize'] = (9,7.5)\n",
    "#rcParams['figure.dpi'] = 300\n",
    "\n",
    "rcParams['lines.linewidth'] = 1\n",
    "\n",
    "rcParams['axes.prop_cycle'] = cycler('color', cb2)\n",
    "rcParams['axes.facecolor'] = 'white'\n",
    "rcParams['axes.grid'] = False\n",
    "\n",
    "rcParams['patch.facecolor'] = cb2[0]\n",
    "rcParams['patch.edgecolor'] = 'white'\n",
    "\n",
    "#rcParams['font.family'] = 'Bitstream Vera Sans' \n",
    "rcParams['font.size'] = 23\n",
    "rcParams['font.weight'] = 300\n"
   ]
  },
  {
   "cell_type": "markdown",
   "metadata": {},
   "source": [
    "## Download DR16 spectra.\n",
    "\n",
    "> Download in parallel."
   ]
  },
  {
   "cell_type": "code",
   "execution_count": null,
   "metadata": {},
   "outputs": [],
   "source": [
    "import os\n",
    "\n",
    "# open batch script\n",
    "f = open(\"ys_run.sh\", 'w')\n",
    "\n",
    "# initiate text\n",
    "file_text = \"\"\n",
    "\n",
    "# loop over different batches\n",
    "for c1 in range(26):\n",
    "    file_text += \"sbatch run_script_\" + str(c1) + \".slurm\\n\"\n",
    "    os.system(\"sed 's/XX/\" + str(c1) + \"/g' run_script_helios.slurm > run_script_\" + str(c1) + \".slurm\")\n",
    "f.write(file_text)\n",
    "f.close()\n",
    "        "
   ]
  },
  {
   "cell_type": "markdown",
   "metadata": {},
   "source": [
    "> Check which spectra were not downloaded."
   ]
  },
  {
   "cell_type": "code",
   "execution_count": null,
   "metadata": {},
   "outputs": [],
   "source": [
    "import numpy as np\n",
    "import os\n",
    "import astropy.io.fits as pyfits\n",
    "\n",
    "#--------------------------------------------------------------------------------------\n",
    "# list all the files\n",
    "list_files = os.listdir(\"../apogee_dr16\")\n",
    "print(len(list_files))\n",
    "\n",
    "# load catalog\n",
    "catalog = pyfits.getdata(\"../allStar-r12-l33.fits\")\n",
    "catalog_id = catalog['APOGEE_ID'].astype(\"str\")\n",
    "print(catalog_id.shape)\n",
    "print(np.unique(catalog_id).shape)\n",
    "\n",
    "#--------------------------------------------------------------------------------------\n",
    "# not downloaded\n",
    "ind_missing = []\n",
    "\n",
    "# loop over all spectra\n",
    "for i in range(catalog_id.size):\n",
    "    \n",
    "    # monitor progress\n",
    "    if i % 1000 == 0:\n",
    "        print(i)\n",
    "        \n",
    "    # check \n",
    "    apogee_id = catalog_id[i]\n",
    "    filename = 'apStar-r12-%s.fits' % apogee_id.strip() \n",
    "    if not(filename in list_files):\n",
    "        ind_missing.append(i)\n",
    "        \n",
    "# convert into numpy\n",
    "ind_missing = np.array(ind_missing)\n"
   ]
  },
  {
   "cell_type": "code",
   "execution_count": null,
   "metadata": {},
   "outputs": [],
   "source": [
    "print(ind_missing.shape)\n",
    "np.savez(\"ind_missing.npz\", ind_missing=ind_missing)"
   ]
  },
  {
   "cell_type": "markdown",
   "metadata": {},
   "source": [
    "> Inspect network architecture."
   ]
  },
  {
   "cell_type": "code",
   "execution_count": 48,
   "metadata": {},
   "outputs": [
    {
     "name": "stdout",
     "output_type": "stream",
     "text": [
      "torch.Size([100, 1])\n"
     ]
    }
   ],
   "source": [
    "# define container\n",
    "class model(torch.nn.Module):\n",
    "    def __init__(self, num_neurons, num_features, mask_size):\n",
    "        super(model, self).__init__()\n",
    "        self.deconv1 = torch.nn.Conv1d(1, 8, mask_size, stride=3)\n",
    "        self.deconv2 = torch.nn.Conv1d(8, 8, mask_size, stride=3)\n",
    "        self.deconv3 = torch.nn.Conv1d(8, 8, mask_size, stride=3)\n",
    "        self.deconv4 = torch.nn.Conv1d(8, 1, mask_size, stride=3)\n",
    "        \n",
    "        self.batch_norm1 = torch.nn.Sequential(\n",
    "                            torch.nn.BatchNorm1d(8),\n",
    "                            torch.nn.LeakyReLU()\n",
    "        )\n",
    "        self.batch_norm2 = torch.nn.Sequential(\n",
    "                            torch.nn.BatchNorm1d(8),\n",
    "                            torch.nn.LeakyReLU()\n",
    "        )\n",
    "        self.batch_norm3 = torch.nn.Sequential(\n",
    "                            torch.nn.BatchNorm1d(8),\n",
    "                            torch.nn.LeakyReLU()\n",
    "        )\n",
    "        self.batch_norm4 = torch.nn.Sequential(\n",
    "                            torch.nn.BatchNorm1d(1),\n",
    "                            torch.nn.LeakyReLU()\n",
    "        )\n",
    "        \n",
    "        self.mlp = torch.nn.Sequential(\n",
    "            torch.nn.Linear(85, num_neurons),\n",
    "            torch.nn.LeakyReLU(),\n",
    "            torch.nn.Linear(num_neurons, num_neurons),\n",
    "            torch.nn.LeakyReLU(),\n",
    "            torch.nn.Linear(num_neurons, num_features),\n",
    "        )\n",
    "    \n",
    "    def forward(self, x):\n",
    "        x = self.deconv1(x)\n",
    "        x = self.batch_norm1(x)\n",
    "        x = self.deconv2(x)\n",
    "        x = self.batch_norm2(x)\n",
    "        x = self.deconv3(x)\n",
    "        x = self.batch_norm3(x)\n",
    "        x = self.deconv4(x)\n",
    "        x = self.batch_norm4(x)[:,0,:]\n",
    "        x = self.mlp(x)\n",
    "        return x\n",
    "    \n",
    "#-----------------------------------------------------------------------------------\n",
    "# initiate model\n",
    "model_conv = model(num_neurons=30, num_features=1, mask_size=11)\n",
    "\n",
    "# forward model\n",
    "spectra = np.zeros((100,7214))\n",
    "spectra = torch.Tensor(spectra)\n",
    "spectra = spectra[:,None,:]\n",
    "y = model_conv(spectra)\n",
    "print(y.shape)"
   ]
  },
  {
   "cell_type": "markdown",
   "metadata": {},
   "source": [
    "## Infer stellar ages with MDN.\n",
    "\n",
    "> Plot inferences."
   ]
  },
  {
   "cell_type": "code",
   "execution_count": 6,
   "metadata": {},
   "outputs": [
    {
     "name": "stdout",
     "output_type": "stream",
     "text": [
      "(501, 1)\n",
      "0.1358116\n",
      "0.16466450691223145\n"
     ]
    },
    {
     "data": {
      "image/png": "[encoded data removed]",
      "text/plain": [
       "<Figure size 648x540 with 1 Axes>"
      ]
     },
     "metadata": {
      "needs_background": "light"
     },
     "output_type": "display_data"
    }
   ],
   "source": [
    "# load models\n",
    "model = torch.load(\"../models.pt\",  map_location=lambda storage, loc: storage) # load in cpu\n",
    "model.eval()\n",
    "\n",
    "\n",
    "#==============================================================================\n",
    "# restore validation set\n",
    "temp = np.load(\"../source_apogee_rc_spectra.npz\")\n",
    "apogee_spectra = temp[\"apogee_spectra\"].T\n",
    "apogee_spectra_err = temp[\"apogee_spectra_err\"].T\n",
    "apogee_spectra_all = temp[\"apogee_spectra_all\"].T\n",
    "apogee_log_age = temp[\"log_age\"]\n",
    "apogee_id = temp[\"apogee_id\"]\n",
    "apogee_payne_teff = temp[\"teff\"]\n",
    "\n",
    "\n",
    "#==============================================================================\n",
    "# extract input and output arrays\n",
    "input_array = np.copy(apogee_spectra).T\n",
    "output_array = np.vstack([apogee_log_age]).T\n",
    "all_array = np.copy(apogee_spectra_all).T\n",
    "\n",
    "x = input_array[:2000,:]\n",
    "y = output_array[:2000,:]\n",
    "y_train = np.copy(y)\n",
    "\n",
    "x_valid = input_array[2000:,:]\n",
    "y_valid = output_array[2000:,:]\n",
    "x_valid_count = x_valid.shape[0]\n",
    "\n",
    "x_all = np.copy(all_array)\n",
    "\n",
    "\n",
    "#==============================================================================\n",
    "# scale the labels\n",
    "x = x-0.\n",
    "x_valid = x_valid-0. # convert to the write float format\n",
    "\n",
    "y = y-0.\n",
    "y_valid = y_valid-0.\n",
    "\n",
    "#-----------------------------------------------------------------------------\n",
    "# make pytorch variables\n",
    "x = torch.Tensor(x)\n",
    "y = torch.Tensor(y)\n",
    "\n",
    "x_valid = torch.Tensor(x_valid)\n",
    "y_valid = torch.Tensor(y_valid)\n",
    "\n",
    "\n",
    "#==============================================================================\n",
    "# plot inference\n",
    "y_truth = y_valid.numpy() -3.\n",
    "y_category, y_normal = model(x_valid)\n",
    "\n",
    "# extract parameters\n",
    "y_category = np.exp(y_category._param.detach().numpy())\n",
    "print(y_category.shape)\n",
    "y_normal_loc = y_normal.mean.detach().numpy()[:,:,0] -3.\n",
    "y_normal_std = y_normal.stddev.detach().numpy()[:,:,0]\n",
    "\n",
    "# the dominant mode\n",
    "y_category_mode = np.argmax(y_category, axis=1)\n",
    "y_pred = np.array([y_normal_loc[i,y_category_mode[i]] \\\n",
    "                   for i in range(y_normal_loc.shape[0])])\n",
    "y_error = np.array([y_normal_std[i,y_category_mode[i]] \\\n",
    "                   for i in range(y_normal_std.shape[0])])\n",
    "\n",
    "#-----------------------------------------------------------------------------\n",
    "# plot results\n",
    "y_truth = y_truth[:,0]\n",
    "plt.scatter(y_truth, y_pred, s=10)\n",
    "plt.plot([-0.5,1.0], [-0.5,1.0], color=\"red\")\n",
    "\n",
    "# plot error bar\n",
    "for i in range(y_error.size):\n",
    "    plt.plot([y_truth[i],y_truth[i]],[y_pred[i]-y_error[i],y_pred[i]+y_error[i]],\\\n",
    "             color='k', alpha=0.2)\n",
    "    \n",
    "# print 1 sigma spread\n",
    "print(np.median(y_error))\n"
   ]
  },
  {
   "cell_type": "code",
   "execution_count": 44,
   "metadata": {},
   "outputs": [
    {
     "data": {
      "image/png": "[encoded data removed]",
      "text/plain": [
       "<Figure size 648x540 with 1 Axes>"
      ]
     },
     "metadata": {
      "needs_background": "light"
     },
     "output_type": "display_data"
    }
   ],
   "source": [
    "plt.hist(y_truth-y_pred, bins=20);"
   ]
  },
  {
   "cell_type": "markdown",
   "metadata": {},
   "source": [
    "> Plot PDF."
   ]
  },
  {
   "cell_type": "code",
   "execution_count": null,
   "metadata": {},
   "outputs": [],
   "source": [
    "def plot_normal_mix(pis, mus, sigmas, ax, label='', comp=True):\n",
    "  \"\"\"Plots the mixture of Normal models to axis=ax comp=True plots all\n",
    "  components of mixture model\n",
    "  \"\"\"\n",
    "  # x = np.linspace(-10.5, 10.5, 250)\n",
    "  x = np.linspace(-0.1, 1.1, 250)\n",
    "  final = np.zeros_like(x)\n",
    "  for i, (weight_mix, mu_mix, sigma_mix) in enumerate(zip(pis, mus, sigmas)):\n",
    "    temp = stats.norm.pdf(x, mu_mix, sigma_mix) * weight_mix\n",
    "    final = final + temp\n",
    "    if comp:\n",
    "      ax.plot(x, temp, label='Normal ' + str(i))\n",
    "  ax.plot(x, final, label='Mixture of Normals ' + label)\n",
    "  ax.legend(fontsize=13)\n",
    "  return final"
   ]
  },
  {
   "cell_type": "code",
   "execution_count": null,
   "metadata": {},
   "outputs": [],
   "source": []
  }
 ],
 "metadata": {
  "kernelspec": {
   "display_name": "Python 3",
   "language": "python",
   "name": "python3"
  },
  "language_info": {
   "codemirror_mode": {
    "name": "ipython",
    "version": 3
   },
   "file_extension": ".py",
   "mimetype": "text/x-python",
   "name": "python",
   "nbconvert_exporter": "python",
   "pygments_lexer": "ipython3",
   "version": "3.7.3"
  }
 },
 "nbformat": 4,
 "nbformat_minor": 2
}
